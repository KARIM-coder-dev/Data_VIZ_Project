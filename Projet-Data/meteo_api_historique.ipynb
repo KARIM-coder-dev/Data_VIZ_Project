{
 "cells": [
  {
   "cell_type": "code",
   "execution_count": 55,
   "metadata": {},
   "outputs": [],
   "source": [
    "import pandas as pd\n",
    "import numpy as np"
   ]
  },
  {
   "cell_type": "code",
   "execution_count": 56,
   "metadata": {},
   "outputs": [
    {
     "name": "stdout",
     "output_type": "stream",
     "text": [
      "Current temperature in Paris is 2℃ \n"
     ]
    }
   ],
   "source": [
    "import requests\n",
    "\n",
    "params = {\n",
    "  'access_key': '45a5958277ad9d67a40385cde79e791a',\n",
    "  'query': 'paris'\n",
    "}\n",
    "\n",
    "api_result = requests.get('http://api.weatherstack.com/current', params)\n",
    "\n",
    "api_response = api_result.json()\n",
    "\n",
    "print(u'Current temperature in %s is %d℃ ' % (api_response['location']['name'], api_response['current']['temperature']))"
   ]
  },
  {
   "cell_type": "code",
   "execution_count": 57,
   "metadata": {},
   "outputs": [
    {
     "data": {
      "text/plain": [
       "{'request': {'type': 'City',\n",
       "  'query': 'Paris, France',\n",
       "  'language': 'en',\n",
       "  'unit': 'm'},\n",
       " 'location': {'name': 'Paris',\n",
       "  'country': 'France',\n",
       "  'region': 'Ile-de-France',\n",
       "  'lat': '48.867',\n",
       "  'lon': '2.333',\n",
       "  'timezone_id': 'Europe/Paris',\n",
       "  'localtime': '2023-01-26 12:29',\n",
       "  'localtime_epoch': 1674736140,\n",
       "  'utc_offset': '1.0'},\n",
       " 'current': {'observation_time': '11:29 AM',\n",
       "  'temperature': 2,\n",
       "  'weather_code': 302,\n",
       "  'weather_icons': ['https://cdn.worldweatheronline.com/images/wsymbols01_png_64/wsymbol_0018_cloudy_with_heavy_rain.png'],\n",
       "  'weather_descriptions': ['Mist, Light Drizzle And Rain'],\n",
       "  'wind_speed': 4,\n",
       "  'wind_degree': 342,\n",
       "  'wind_dir': 'NNW',\n",
       "  'pressure': 1025,\n",
       "  'precip': 0.1,\n",
       "  'humidity': 93,\n",
       "  'cloudcover': 100,\n",
       "  'feelslike': 0,\n",
       "  'uv_index': 1,\n",
       "  'visibility': 4,\n",
       "  'is_day': 'yes'}}"
      ]
     },
     "execution_count": 57,
     "metadata": {},
     "output_type": "execute_result"
    }
   ],
   "source": [
    "api_response"
   ]
  },
  {
   "cell_type": "code",
   "execution_count": 58,
   "metadata": {},
   "outputs": [
    {
     "data": {
      "text/plain": [
       "dict_items([('request', {'type': 'City', 'query': 'Paris, France', 'language': 'en', 'unit': 'm'}), ('location', {'name': 'Paris', 'country': 'France', 'region': 'Ile-de-France', 'lat': '48.867', 'lon': '2.333', 'timezone_id': 'Europe/Paris', 'localtime': '2023-01-26 12:29', 'localtime_epoch': 1674736140, 'utc_offset': '1.0'}), ('current', {'observation_time': '11:29 AM', 'temperature': 2, 'weather_code': 302, 'weather_icons': ['https://cdn.worldweatheronline.com/images/wsymbols01_png_64/wsymbol_0018_cloudy_with_heavy_rain.png'], 'weather_descriptions': ['Mist, Light Drizzle And Rain'], 'wind_speed': 4, 'wind_degree': 342, 'wind_dir': 'NNW', 'pressure': 1025, 'precip': 0.1, 'humidity': 93, 'cloudcover': 100, 'feelslike': 0, 'uv_index': 1, 'visibility': 4, 'is_day': 'yes'})])"
      ]
     },
     "execution_count": 58,
     "metadata": {},
     "output_type": "execute_result"
    }
   ],
   "source": [
    "api_response.items()"
   ]
  },
  {
   "cell_type": "code",
   "execution_count": 59,
   "metadata": {},
   "outputs": [],
   "source": [
    "import pymongo\n",
    "import json"
   ]
  },
  {
   "cell_type": "code",
   "execution_count": 60,
   "metadata": {},
   "outputs": [],
   "source": [
    "client = pymongo.MongoClient(\"mongodb://localhost:27017\")"
   ]
  },
  {
   "cell_type": "code",
   "execution_count": 61,
   "metadata": {},
   "outputs": [],
   "source": [
    "db = client[\"Projet\"]\n",
    "collection = db[\"Meteo_Histori\"]"
   ]
  },
  {
   "cell_type": "code",
   "execution_count": 62,
   "metadata": {},
   "outputs": [],
   "source": [
    "document = json.dumps(api_response)"
   ]
  },
  {
   "cell_type": "code",
   "execution_count": 63,
   "metadata": {},
   "outputs": [
    {
     "data": {
      "text/plain": [
       "<pymongo.results.InsertOneResult at 0x7f7a389f9100>"
      ]
     },
     "execution_count": 63,
     "metadata": {},
     "output_type": "execute_result"
    }
   ],
   "source": [
    "collection.insert_one(api_response)"
   ]
  },
  {
   "cell_type": "code",
   "execution_count": 64,
   "metadata": {},
   "outputs": [
    {
     "data": {
      "text/plain": [
       "datetime.datetime(2023, 1, 6, 0, 0)"
      ]
     },
     "execution_count": 64,
     "metadata": {},
     "output_type": "execute_result"
    }
   ],
   "source": [
    "from datetime import datetime\n",
    "\n",
    "datetime.strptime(collection.find_one()['location'].get('localtime')[:10] , \"%Y-%m-%d\")"
   ]
  },
  {
   "cell_type": "code",
   "execution_count": 65,
   "metadata": {},
   "outputs": [],
   "source": [
    "results = collection.find()\n"
   ]
  },
  {
   "cell_type": "code",
   "execution_count": 66,
   "metadata": {},
   "outputs": [
    {
     "data": {
      "text/plain": [
       "<pymongo.cursor.Cursor at 0x7f7a38a05a60>"
      ]
     },
     "execution_count": 66,
     "metadata": {},
     "output_type": "execute_result"
    }
   ],
   "source": [
    "results"
   ]
  },
  {
   "cell_type": "code",
   "execution_count": 67,
   "metadata": {},
   "outputs": [],
   "source": [
    "# # Ouvrez le fichier où vous voulez stocker les documents\n",
    "# with open(\"documents.txt\", \"w\") as f:\n",
    "#     # Récupérez tous les documents de la collection\n",
    "#     documents = collection.find({})\n",
    "\n",
    "#     # Écrivez chaque document dans le fichier\n",
    "#     for document in documents:\n",
    "#         f.write(str(document) + \"\\n\")"
   ]
  },
  {
   "cell_type": "code",
   "execution_count": 68,
   "metadata": {},
   "outputs": [],
   "source": [
    "# client.close()"
   ]
  },
  {
   "cell_type": "code",
   "execution_count": null,
   "metadata": {},
   "outputs": [],
   "source": []
  }
 ],
 "metadata": {
  "kernelspec": {
   "display_name": "ProjetBDD",
   "language": "python",
   "name": "python3"
  },
  "language_info": {
   "codemirror_mode": {
    "name": "ipython",
    "version": 3
   },
   "file_extension": ".py",
   "mimetype": "text/x-python",
   "name": "python",
   "nbconvert_exporter": "python",
   "pygments_lexer": "ipython3",
   "version": "3.9.13"
  },
  "orig_nbformat": 4,
  "vscode": {
   "interpreter": {
    "hash": "b3ca2c48fdea043ee2dc961a8c9dc753d4fa4e4dc54f8b2ea714e7728d985519"
   }
  }
 },
 "nbformat": 4,
 "nbformat_minor": 2
}
